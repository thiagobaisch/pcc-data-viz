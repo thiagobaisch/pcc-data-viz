{
 "cells": [
  {
   "cell_type": "markdown",
   "id": "98859caa",
   "metadata": {},
   "source": [
    "## Importing and Setting up "
   ]
  },
  {
   "cell_type": "code",
   "execution_count": null,
   "id": "08b63b1a",
   "metadata": {},
   "outputs": [],
   "source": [
    "import sys, os\n",
    "import matplotlib.pyplot as plt \n",
    "# This is to allow files in ../src to be imported\n",
    "sys.path.append(os.path.abspath(\"../src\"))\n",
    "\n",
    "from vizproj.random_walk import RandomWalk\n",
    "import matplotlib.pyplot as plt "
   ]
  },
  {
   "cell_type": "markdown",
   "id": "952e80d6",
   "metadata": {},
   "source": [
    "### Setting up for tests"
   ]
  }
 ],
 "metadata": {
  "kernelspec": {
   "display_name": ".venv",
   "language": "python",
   "name": "python3"
  },
  "language_info": {
   "codemirror_mode": {
    "name": "ipython",
    "version": 3
   },
   "file_extension": ".py",
   "mimetype": "text/x-python",
   "name": "python",
   "nbconvert_exporter": "python",
   "pygments_lexer": "ipython3",
   "version": "3.13.1"
  }
 },
 "nbformat": 4,
 "nbformat_minor": 5
}
