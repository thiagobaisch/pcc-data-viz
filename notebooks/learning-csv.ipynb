{
 "cells": [
  {
   "cell_type": "markdown",
   "id": "2b0c8919",
   "metadata": {},
   "source": [
    "## SETUP and Index Variables"
   ]
  },
  {
   "cell_type": "code",
   "execution_count": null,
   "id": "76d59389",
   "metadata": {},
   "outputs": [],
   "source": [
    "from pathlib import Path\n",
    "import csv\n",
    "from datetime import datetime\n",
    "import matplotlib.pyplot as plt\n",
    "\n",
    "file_name='san_francisco_intl_2021_full.csv'\n",
    "location ='san_francisco_intl'\n",
    "path = Path(f'../data/weather_data/{file_name}')\n",
    "\n",
    "lines = path.read_text().splitlines()\n",
    "reader = csv.reader(lines)\n",
    "\n",
    "\n",
    "#Reading header_row and putting the reader on second line\n",
    "header_row = next(reader)\n",
    "print(f'header row: {header_row}')\n",
    "#Setting the indexes automatically\n",
    "tmax_index = header_row.index('TMAX')\n",
    "tmin_index = header_row.index('TMIN')\n",
    "prcp_index = header_row.index('PRCP')\n",
    "date_index = header_row.index('DATE')\n",
    "\n",
    "        \n",
    "# See all column indexes using enumerate, to make it easier to know whats in the file\n",
    "for index, column_header in enumerate(header_row):\n",
    "    print(index, column_header)\n"
   ]
  },
  {
   "cell_type": "markdown",
   "id": "cc3769e8",
   "metadata": {},
   "source": [
    "## Extracting and reading data\n",
    "\n",
    "Date - using the module datetime, we extract the dates using strptime(timestring, format). We will use strptime(datestring, '%Y-%m-%d')\n",
    "as that is how date is formated in this csv file. \n",
    "\n",
    "Error handling - we need to appropriately handle missing or erroneous data in csv files, because usually real world data comes with\n",
    "some noise and incorrect values, like missing data and erroneous data. \n",
    "In this case, a common occurrence would be for example missing data in the high and low temps, like for example '', which would return a \n",
    "ValueError when read with int(). There are many ways to handle errors like that. One option is using try-except-else loop. "
   ]
  },
  {
   "cell_type": "code",
   "execution_count": null,
   "id": "54929d34",
   "metadata": {},
   "outputs": [],
   "source": [
    "\n",
    "#Extraction all Tmax (Highs) - it starts from second line, as the first was already read on header_row\n",
    "dates, highs, lows, prcp = [], [], [], []\n",
    "for row in reader:\n",
    "    current_date = datetime.strptime(row[2], '%Y-%m-%d')\n",
    "    #Error handling \n",
    "    try:\n",
    "        high = int(row[tmax_index])\n",
    "        low = int(row[tmin_index])\n",
    "        precipitation = float(row[prcp_index])\n",
    "    except ValueError:\n",
    "        print(f'missing data for {current_date}')\n",
    "    else:\n",
    "        dates.append(current_date)\n",
    "        highs.append(high)\n",
    "        lows.append(low)\n",
    "        prcp.append(precipitation)\n",
    "\n"
   ]
  },
  {
   "cell_type": "markdown",
   "id": "3f215db2",
   "metadata": {},
   "source": [
    "## Ploting the data using matplotlib \n",
    "\n",
    "For high and low temperatures, with an area filled between them."
   ]
  },
  {
   "cell_type": "code",
   "execution_count": null,
   "id": "399b2e35",
   "metadata": {},
   "outputs": [],
   "source": [
    "plt.style.use('ggplot')\n",
    "fig, ax = plt.subplots()\n",
    "\n",
    "#Ploting both highs and lows\n",
    "ax.plot(dates, highs, color='red', alpha=0.5)\n",
    "ax.plot(dates, lows, color='blue', alpha=0.5)\n",
    "ax.fill_between(dates, highs, lows, facecolor='blue', alpha=0.1)\n",
    "\n",
    "#Formatting plot\n",
    "ax.set_title(f'Daily high and low temperatures,{location}, 2021', fontsize=24)\n",
    "ax.set_xlabel('', fontsize=16)\n",
    "ax.set_ylabel(\"Temperature (F)\", fontsize=16)\n",
    "ax.tick_params(labelsize=16)\n",
    "fig.autofmt_xdate()\n",
    "\n",
    "#Set yaxis range so you can compare both places\n",
    "ax.set_ylim(0,140)\n",
    "\n",
    "plt.savefig(f'../figures/{location}_temps.png', bbox_inches='tight')\n",
    "plt.show()"
   ]
  },
  {
   "cell_type": "code",
   "execution_count": null,
   "id": "dc71c885",
   "metadata": {},
   "outputs": [],
   "source": [
    "## Creating a plot for precipitation\n",
    "fig, ax = plt.subplots()\n",
    "\n",
    "#Plotting precipitation values\n",
    "ax.plot(dates,prcp,c='blue')\n",
    "\n",
    "ax.set_title(f'Precipitation data in {location}, 2021')\n",
    "ax.set_ylabel('Precipitation')\n",
    "ax.set_ylim(0,5)\n",
    "\n",
    "plt.savefig(f'../figures/{location}_prcp.png')\n",
    "plt.show()\n"
   ]
  }
 ],
 "metadata": {
  "kernelspec": {
   "display_name": ".venv",
   "language": "python",
   "name": "python3"
  },
  "language_info": {
   "codemirror_mode": {
    "name": "ipython",
    "version": 3
   },
   "file_extension": ".py",
   "mimetype": "text/x-python",
   "name": "python",
   "nbconvert_exporter": "python",
   "pygments_lexer": "ipython3",
   "version": "3.13.1"
  }
 },
 "nbformat": 4,
 "nbformat_minor": 5
}
