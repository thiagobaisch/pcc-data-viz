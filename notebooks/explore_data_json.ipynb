{
 "cells": [
  {
   "cell_type": "code",
   "execution_count": null,
   "id": "8bb5f5b7",
   "metadata": {},
   "outputs": [],
   "source": [
    "from pathlib import Path\n",
    "import json\n",
    "import plotly.express as px\n"
   ]
  },
  {
   "cell_type": "code",
   "execution_count": null,
   "id": "554dac69",
   "metadata": {},
   "outputs": [],
   "source": [
    "\n",
    "path = Path('../data/eq_data/eq_data_30_day_m1.geojson')\n",
    "contents = path.read_text()\n",
    "all_eq_data = json.loads(contents)\n",
    "\n",
    "#Creates a new file readable_eq_data for dumping json (only one time)\n",
    "#path = Path('../data/eq_data/readable_eq_data.geojson')\n",
    "#readable_contents = json.dumps(all_eq_data, indent=4)\n",
    "#path.write_text(readable_contents)\n",
    "\n",
    "all_eq_dicts = all_eq_data['features']\n",
    "print(len(all_eq_dicts))"
   ]
  },
  {
   "cell_type": "markdown",
   "id": "2b789185",
   "metadata": {},
   "source": [
    "### Retrieving and Organizing the data"
   ]
  },
  {
   "cell_type": "code",
   "execution_count": null,
   "id": "3b457f14",
   "metadata": {},
   "outputs": [],
   "source": [
    "\"\"\"mags, lons, lats, eq_titles = [], [], [], []\n",
    "for eq_dict in all_eq_dicts:\n",
    "    mag = eq_dict['properties']['mag']\n",
    "    lon = eq_dict['geometry']['coordinates'][0]\n",
    "    lat = eq_dict['geometry']['coordinates'][1]\n",
    "    title = eq_dict['properties']['title']\n",
    "    eq_titles.append(title)\n",
    "    mags.append(mag)\n",
    "    lons.append(lon)\n",
    "    lats.append(lat)\n",
    "\n",
    "print(mags[:10])\n",
    "print(lons[:10])\n",
    "print(lats[:10])\"\"\"\n"
   ]
  },
  {
   "cell_type": "markdown",
   "id": "613b8305",
   "metadata": {},
   "source": [
    "Refactor and list comprehensions of the above code:"
   ]
  },
  {
   "cell_type": "code",
   "execution_count": null,
   "id": "8165585f",
   "metadata": {},
   "outputs": [],
   "source": [
    "mags = [eq_dict['properties']['mag'] for eq_dict in all_eq_dicts]\n",
    "lons = [eq_dict['geometry']['coordinates'][0] for eq_dict in all_eq_dicts]\n",
    "lats = [eq_dict['geometry']['coordinates'][1] for eq_dict in all_eq_dicts]\n",
    "eq_titles = [eq_dict['properties']['title'] for eq_dict in all_eq_dicts]\n"
   ]
  },
  {
   "cell_type": "markdown",
   "id": "8dad7b8e",
   "metadata": {},
   "source": [
    "### Creating a World map plot"
   ]
  },
  {
   "cell_type": "code",
   "execution_count": null,
   "id": "39aeed41",
   "metadata": {},
   "outputs": [],
   "source": [
    "title = 'Global Earthquakes'\n",
    "fig = px.scatter_geo(lat=lats, lon=lons, size=mags, title=title,\n",
    "        color=mags, \n",
    "        color_continuous_scale='Viridis',\n",
    "        labels={'color':'Magnitude'}, \n",
    "        projection='natural earth',\n",
    "        hover_name=eq_titles,\n",
    "        )\n",
    "fig.show(renderer='vscode')"
   ]
  }
 ],
 "metadata": {
  "kernelspec": {
   "display_name": ".venv",
   "language": "python",
   "name": "python3"
  },
  "language_info": {
   "codemirror_mode": {
    "name": "ipython",
    "version": 3
   },
   "file_extension": ".py",
   "mimetype": "text/x-python",
   "name": "python",
   "nbconvert_exporter": "python",
   "pygments_lexer": "ipython3",
   "version": "3.13.1"
  }
 },
 "nbformat": 4,
 "nbformat_minor": 5
}
