{
 "cells": [
  {
   "cell_type": "code",
   "execution_count": null,
   "id": "814b4d2b",
   "metadata": {},
   "outputs": [],
   "source": [
    "import requests\n",
    "import json\n",
    "from operator import itemgetter\n",
    "\n",
    "#Creates api call and stores answer \n",
    "url = \"https://hacker-news.firebaseio.com/v0/topstories.json\"\n",
    "r = requests.get(url)\n",
    "print(f\"Status code: {r.status_code}\")\n",
    "\n",
    "#Store data \n",
    "submission_ids = r.json()"
   ]
  },
  {
   "cell_type": "code",
   "execution_count": null,
   "id": "5e52db5c",
   "metadata": {},
   "outputs": [],
   "source": [
    "#Exploring data structures\n",
    "submission_dicts = []\n",
    "for submission_id in submission_ids[:5]:\n",
    "    #New API call for each article\n",
    "    url = f'https://hacker-news.firebaseio.com/v0/item/{submission_id}.json'\n",
    "    r = requests.get(url)\n",
    "    print(f'id: {submission_id}\\tstatus: {r.status_code}')\n",
    "    response_dict = r.json()\n",
    "\n",
    "    #Create a dict for each article\n",
    "    submission_dict = {\n",
    "        'title': response_dict['title'],\n",
    "        'hn_link': response_dict['url'],\n",
    "        'comments': response_dict['descendants'],\n",
    "    }\n",
    "    submission_dicts.append(submission_dict)\n",
    "\n",
    "submission_dicts = sorted(submission_dicts, key=itemgetter('comments'), reverse=True)\n",
    "\n",
    "article_links, number_of_comments = [], []\n",
    "for submission_dict in submission_dicts:\n",
    "    article_links.append(f\"<a href='{submission_dict['hn_link']}'>{submission_dict['title']}</a>\")\n",
    "    number_of_comments.append(submission_dict['comments'])\n",
    "    print(f\"\\nTitle: {submission_dict['title']}\")\n",
    "    print(f\"Discussion Link: {submission_dict['hn_link']}\")\n",
    "    print(f\"Comments: {submission_dict['comments']}\")\n"
   ]
  },
  {
   "cell_type": "code",
   "execution_count": null,
   "id": "7991bf34",
   "metadata": {},
   "outputs": [],
   "source": [
    "#Creating a plotly visualization of the top5 most commented articles on hacker news\n",
    "import plotly.express as px\n",
    "\n",
    "title = \"Top 5 commented articles on hacker news today\"\n",
    "labels = {'x':'Articles', 'y':'Number of comments'}\n",
    "fig = px.bar(x=article_links, y=number_of_comments, title=title, labels=labels)\n",
    "fig.show(renderer='vscode')\n",
    "fig.write_html('../figures/hn_articles.html')"
   ]
  }
 ],
 "metadata": {
  "kernelspec": {
   "display_name": ".venv",
   "language": "python",
   "name": "python3"
  },
  "language_info": {
   "codemirror_mode": {
    "name": "ipython",
    "version": 3
   },
   "file_extension": ".py",
   "mimetype": "text/x-python",
   "name": "python",
   "nbconvert_exporter": "python",
   "pygments_lexer": "ipython3",
   "version": "3.13.1"
  }
 },
 "nbformat": 4,
 "nbformat_minor": 5
}
