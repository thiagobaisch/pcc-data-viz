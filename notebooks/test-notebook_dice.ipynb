{
 "cells": [
  {
   "cell_type": "markdown",
   "id": "98859caa",
   "metadata": {},
   "source": [
    "## Importing and Setting up "
   ]
  },
  {
   "cell_type": "code",
   "execution_count": null,
   "id": "08b63b1a",
   "metadata": {},
   "outputs": [],
   "source": [
    "import sys, os\n",
    "import matplotlib.pyplot as plt \n",
    "import plotly.express as px\n",
    "# This is to allow files in ../src to be imported\n",
    "sys.path.append(os.path.abspath(\"../src\"))\n",
    "\n",
    "from vizproj.random_walk import RandomWalk\n",
    "from vizproj.die import Die \n",
    "import matplotlib.pyplot as plt \n"
   ]
  },
  {
   "cell_type": "markdown",
   "id": "952e80d6",
   "metadata": {},
   "source": [
    "### Setting up for tests\n",
    "Variables:\n"
   ]
  },
  {
   "cell_type": "code",
   "execution_count": null,
   "id": "5b761ac0",
   "metadata": {},
   "outputs": [],
   "source": [
    "\n",
    "die_1 = Die(6)\n",
    "die_2 = Die(6)\n",
    "num_rolls = 50_000"
   ]
  },
  {
   "cell_type": "markdown",
   "id": "372d0a0a",
   "metadata": {},
   "source": [
    "### Simulation"
   ]
  },
  {
   "cell_type": "code",
   "execution_count": null,
   "id": "d00ca0b7",
   "metadata": {},
   "outputs": [],
   "source": [
    "results = [die_1.roll() + die_2.roll() for _ in range(1, num_rolls+1)]\n",
    "\n",
    "max_results = die_1.num_sides + die_2.num_sides\n",
    "possible_results = range(2,max_results+1)\n",
    "frequencies = [results.count(value) for value in possible_results]\n",
    "print(frequencies)"
   ]
  },
  {
   "cell_type": "markdown",
   "id": "0a6f1dd0",
   "metadata": {},
   "source": [
    "## Plotting results"
   ]
  },
  {
   "cell_type": "code",
   "execution_count": null,
   "id": "b9bf70a6",
   "metadata": {},
   "outputs": [],
   "source": [
    "#Style of graph\n",
    "label = {'x':'Values', 'y':'Frequency of Values'}\n",
    "title = f'Frequency of results of rolling 2 dice with [{die_1.num_sides}] [{die_2.num_sides}] sides {num_rolls} times'\n"
   ]
  },
  {
   "cell_type": "code",
   "execution_count": null,
   "id": "8a0a7661",
   "metadata": {},
   "outputs": [],
   "source": [
    "fig = px.bar(x=possible_results, y=frequencies, title=title, labels=label)\n",
    "fig.update_layout(xaxis_dtick=1)\n",
    "fig.show()"
   ]
  }
 ],
 "metadata": {
  "kernelspec": {
   "display_name": ".venv",
   "language": "python",
   "name": "python3"
  },
  "language_info": {
   "codemirror_mode": {
    "name": "ipython",
    "version": 3
   },
   "file_extension": ".py",
   "mimetype": "text/x-python",
   "name": "python",
   "nbconvert_exporter": "python",
   "pygments_lexer": "ipython3",
   "version": "3.13.1"
  }
 },
 "nbformat": 4,
 "nbformat_minor": 5
}
