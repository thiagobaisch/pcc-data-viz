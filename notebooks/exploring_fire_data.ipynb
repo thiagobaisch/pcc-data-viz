{
 "cells": [
  {
   "cell_type": "code",
   "execution_count": null,
   "id": "45f579ce",
   "metadata": {},
   "outputs": [],
   "source": [
    "from pathlib import Path\n",
    "import csv\n",
    "import plotly.express as px"
   ]
  },
  {
   "cell_type": "code",
   "execution_count": null,
   "id": "783897b2",
   "metadata": {},
   "outputs": [],
   "source": [
    "path = Path('../data/eq_data/world_fires_1_day.csv')\n",
    "lines = path.read_text().splitlines()\n",
    "reader = csv.reader(lines)\n",
    "\n",
    "header_row = next(reader)\n",
    "print(header_row)\n"
   ]
  },
  {
   "cell_type": "code",
   "execution_count": null,
   "id": "864d3d16",
   "metadata": {},
   "outputs": [],
   "source": [
    "lats, lons, brights = [], [], []\n",
    "for row in reader:\n",
    "    lat = float(row[0])\n",
    "    lon = float(row[1])\n",
    "    bright = float(row[2])\n",
    "    lats.append(lat)\n",
    "    lons.append(lon)\n",
    "    brights.append(bright)\n"
   ]
  },
  {
   "cell_type": "code",
   "execution_count": null,
   "id": "11c96867",
   "metadata": {},
   "outputs": [],
   "source": [
    "title = 'World Fires'\n",
    "fig = px.scatter_geo(lat=lats, lon=lons, title=title,\n",
    "        color=brights,\n",
    "        color_continuous_scale='Viridis',\n",
    "        labels={'color':'Magnitude'},\n",
    "        projection='natural earth'\n",
    "        )\n",
    "fig.show()"
   ]
  }
 ],
 "metadata": {
  "kernelspec": {
   "display_name": ".venv",
   "language": "python",
   "name": "python3"
  },
  "language_info": {
   "codemirror_mode": {
    "name": "ipython",
    "version": 3
   },
   "file_extension": ".py",
   "mimetype": "text/x-python",
   "name": "python",
   "nbconvert_exporter": "python",
   "pygments_lexer": "ipython3",
   "version": "3.13.1"
  }
 },
 "nbformat": 4,
 "nbformat_minor": 5
}
