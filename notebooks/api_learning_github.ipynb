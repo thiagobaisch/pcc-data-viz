{
 "cells": [
  {
   "cell_type": "code",
   "execution_count": null,
   "id": "a8bc36c6",
   "metadata": {},
   "outputs": [],
   "source": [
    "import requests\n",
    "import plotly.express as px\n",
    "\n",
    "#Creating API call and getting an answer\n",
    "url = 'https://api.github.com/search/repositories'\n",
    "url += '?q=language:python+sort:stars+stars:>10000'\n",
    "\n",
    "headers = {'Accept': 'application/vnd.github.v3+json'}\n",
    "r = requests.get(url, headers=headers)\n",
    "print(f\"Status code: {r.status_code}\")\n",
    "\n",
    "#Converts response into dictionary\n",
    "response_dict = r.json()\n",
    "\n",
    "print(response_dict.keys())\n",
    "print(f'Total repositories: {response_dict['total_count']}')\n",
    "print(f'Complete results: {not response_dict['incomplete_results']}')\n"
   ]
  },
  {
   "cell_type": "code",
   "execution_count": null,
   "id": "57e3a589",
   "metadata": {},
   "outputs": [],
   "source": [
    "#Exploring repos info\n",
    "repo_dicts = response_dict['items']\n",
    "repo_links, stars, hover_texts = [], [], []\n",
    "for repo_dict in repo_dicts:\n",
    "    repo_name = repo_dict['name']\n",
    "    repo_url = repo_dict['html_url']\n",
    "    repo_link = f\"<a href='{repo_url}'>{repo_name}</a>\"\n",
    "    repo_links.append(repo_link)\n",
    "\n",
    "    stars.append(repo_dict['stargazers_count'])\n",
    "\n",
    "    #Creating hover_texts for graph\n",
    "    owner = repo_dict['owner']['login']\n",
    "    description = repo_dict['description']\n",
    "    hover_text = f'{owner}<br />{description}'\n",
    "    hover_texts.append(hover_text)\n",
    "\n",
    "\n",
    "#print(f'Repos returned: {len(repo_dicts)}')\n",
    "\n",
    "#Examining first repo (outdated)\n",
    "#repo_dict = repo_dicts[0]\n",
    "#print(f'\\nKeys: {len(repo_dict)}')\n",
    "#for key in sorted(repo_dict.keys()):\n",
    "#    print(key)\n",
    "\n",
    "#Getting info about repos\n",
    "#for repo_dict in repo_dicts:\n",
    "#    print(f'\\nName: {repo_dict['name']}')\n",
    "#    print(f'Owner: {repo_dict['owner']['login']}')\n",
    "#    print(f'Stars: {repo_dict['stargazers_count']}')\n",
    "#    print(f'Repository: {repo_dict['html_url']}')\n",
    "#    print(f'Created: {repo_dict['created_at']}')\n",
    "#    print(f'Updated: {repo_dict['updated_at']}')\n",
    "#    print(f'Description: {repo_dict['description']}')\n"
   ]
  },
  {
   "cell_type": "code",
   "execution_count": null,
   "id": "b8cd65de",
   "metadata": {},
   "outputs": [],
   "source": [
    "#Creating visualization\n",
    "title = 'Most starred projects on github'\n",
    "labels = {'x':'Repository', 'y':'Stars'}\n",
    "fig = px.bar(x=repo_links, y=stars, title=title, labels=labels, hover_name=hover_texts)\n",
    "\n",
    "fig.update_layout(title_font_size=28, xaxis_title_font_size=20, yaxis_title_font_size=20)\n",
    "fig.update_traces(marker_color='SteelBlue', marker_opacity=0.6)\n",
    "\n",
    "fig.show(renderer='browser')\n",
    "fig.write_html('../figures/gh_best_python_repos.html')"
   ]
  }
 ],
 "metadata": {
  "kernelspec": {
   "display_name": ".venv",
   "language": "python",
   "name": "python3"
  },
  "language_info": {
   "codemirror_mode": {
    "name": "ipython",
    "version": 3
   },
   "file_extension": ".py",
   "mimetype": "text/x-python",
   "name": "python",
   "nbconvert_exporter": "python",
   "pygments_lexer": "ipython3",
   "version": "3.13.1"
  }
 },
 "nbformat": 4,
 "nbformat_minor": 5
}
